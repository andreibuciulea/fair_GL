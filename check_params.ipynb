{
 "cells": [
  {
   "cell_type": "code",
   "execution_count": 1,
   "metadata": {},
   "outputs": [],
   "source": [
    "from utils import *\n",
    "from opt import *\n",
    "import pandas as pd\n",
    "import numpy as np\n",
    "from joblib import Parallel, delayed\n",
    "import multiprocessing\n",
    "from sklearn.covariance import graphical_lasso\n",
    "\n",
    "# Define a function to handle parallel computation for each combination of mu1 and eta\n",
    "def compute_estimate(mu1, eta, model):\n",
    "    print('Mu: ', mu1, ' Eta: ', eta)\n",
    "    if model == 'GL':\n",
    "        Theta_hat = FairGLASSO_fista(C_hat, mu1, eta, mu2, Z, bias_type,\n",
    "                                    epsilon=0.1, iters=1000, prec_type=None)\n",
    "    elif model == 'GSR':\n",
    "        Theta_hat = FairGSR_fista(C_hat, mu1, eta, mu2, Z, bias_type, iters=1000,\n",
    "                     prec_type='non-negative', tol=1e-3, EARLY_STOP=False, RETURN_ITERS=False)\n",
    "    elif model == 'GLASSO':\n",
    "         _, Theta_hat = graphical_lasso(C_hat, alpha=mu1, max_iter=1000, tol=1e-3) \n",
    "    else:\n",
    "        print('Unknown method')\n",
    "\n",
    "    A_hat, A_hat_bin = extract_estimation(Theta_hat, A_true_bin)\n",
    "    est_err = compute_frob_err(A_hat, A_true)\n",
    "    est_f1 = compute_f1_score(A_hat_bin, A_true_bin)\n",
    "    return est_err, est_f1"
   ]
  },
  {
   "cell_type": "code",
   "execution_count": 2,
   "metadata": {},
   "outputs": [
    {
     "name": "stdout",
     "output_type": "stream",
     "text": [
      "schoolCs4 : Min. error at mu1 = 7 and eta = 0.006 Min. error value: 0.4404090977834826\n",
      "schoolCs4 : Max. F1 score at mu1 = 7 and eta = 0.006 Max. F1 score value: 0.1961398017736046\n",
      "\n",
      "[41 85]\n"
     ]
    }
   ],
   "source": [
    "dnames = ['schoolCs4'] \n",
    "\n",
    "mus1 = np.logspace(-2,1,4) #sparsity \n",
    "etas = np.logspace(-3,1,10) #step size\n",
    "mu2 = 0\n",
    "nmus = len(mus1)\n",
    "netas = len(etas)\n",
    "bias_type = 'dp'\n",
    "epsilon = 0.1\n",
    "est_error = np.zeros((nmus, netas))\n",
    "est_fsc = np.zeros((nmus, netas))\n",
    "\n",
    "model = 'GSR'\n",
    "\n",
    "\n",
    "\n",
    "for k, dn in enumerate(dnames):\n",
    "    A_true, A_true_bin, C_est, C_est_norm, Z, z = load_datasets(dn)\n",
    "    N = A_true.shape[0]\n",
    "    C_hat = C_est_norm\n",
    "    A_hat = np.zeros((N, N))\n",
    "    A_hat_bin = np.zeros((N, N))\n",
    "\n",
    "    # Define the number of cores to use for parallel processing\n",
    "    num_cores = multiprocessing.cpu_count()\n",
    "    # Parallel computation\n",
    "    results = Parallel(n_jobs=num_cores)(\n",
    "        delayed(compute_estimate)(mu1, eta, model)\n",
    "        for mu1 in mus1\n",
    "        for eta in etas\n",
    "    )\n",
    "\n",
    "    # Assign the results to the arrays\n",
    "    for idx, (mu1_idx, eta_idx) in enumerate([(i, j) for i in range(nmus) for j in range(netas)]):\n",
    "        est_error[mu1_idx, eta_idx], est_fsc[mu1_idx, eta_idx] = results[idx]\n",
    "\n",
    "\n",
    "    show_params(mus1,etas,est_error,est_fsc,dn)\n",
    "    p_grp = Z.sum(axis=1)\n",
    "    print(p_grp)"
   ]
  }
 ],
 "metadata": {
  "kernelspec": {
   "display_name": "Python 3 (ipykernel)",
   "language": "python",
   "name": "python3"
  },
  "language_info": {
   "codemirror_mode": {
    "name": "ipython",
    "version": 3
   },
   "file_extension": ".py",
   "mimetype": "text/x-python",
   "name": "python",
   "nbconvert_exporter": "python",
   "pygments_lexer": "ipython3",
   "version": "3.9.5"
  }
 },
 "nbformat": 4,
 "nbformat_minor": 2
}
